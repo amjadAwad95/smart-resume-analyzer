{
 "cells": [
  {
   "metadata": {},
   "cell_type": "raw",
   "source": "",
   "id": "f50fa4bf6edb488e"
  },
  {
   "cell_type": "code",
   "id": "initial_id",
   "metadata": {
    "collapsed": true,
    "ExecuteTime": {
     "end_time": "2025-07-05T10:49:22.189088Z",
     "start_time": "2025-07-05T10:49:22.185835Z"
    }
   },
   "source": [
    "import pandas as pd\n",
    "from datasets import load_dataset\n",
    "from processor import Preprocessor\n",
    "from similarity import SentenceTransformerSimilarity, BertSimilarity, TFIDFSimilarity\n",
    "from sklearn.metrics import accuracy_score, precision_score, recall_score, f1_score"
   ],
   "outputs": [],
   "execution_count": 26
  },
  {
   "metadata": {
    "ExecuteTime": {
     "end_time": "2025-07-05T10:10:11.115694Z",
     "start_time": "2025-07-05T10:10:11.112645Z"
    }
   },
   "cell_type": "code",
   "source": "data_path = \"cnamuangtoun/resume-job-description-fit\"",
   "id": "c5adb8b5a5057b1b",
   "outputs": [],
   "execution_count": 2
  },
  {
   "metadata": {
    "ExecuteTime": {
     "end_time": "2025-07-05T10:10:17.233160Z",
     "start_time": "2025-07-05T10:10:13.493164Z"
    }
   },
   "cell_type": "code",
   "source": [
    "datasets = load_dataset(data_path)\n",
    "\n",
    "train_dataset = datasets['train']\n",
    "test_dataset = datasets['test']"
   ],
   "id": "ee31d8d2097183ae",
   "outputs": [],
   "execution_count": 3
  },
  {
   "metadata": {
    "ExecuteTime": {
     "end_time": "2025-07-05T10:11:24.638723Z",
     "start_time": "2025-07-05T10:11:19.840992Z"
    }
   },
   "cell_type": "code",
   "source": [
    "preprocessor = Preprocessor()\n",
    "sentence_transformer = SentenceTransformerSimilarity()\n",
    "bert_similarity = BertSimilarity()\n",
    "tfidf_similarity = TFIDFSimilarity()"
   ],
   "id": "8a5ab5d98b0212c2",
   "outputs": [],
   "execution_count": 4
  },
  {
   "metadata": {
    "ExecuteTime": {
     "end_time": "2025-07-05T10:11:26.111056Z",
     "start_time": "2025-07-05T10:11:26.105677Z"
    }
   },
   "cell_type": "code",
   "source": [
    "def compute_similarity(example):\n",
    "    resume = preprocessor.preprocess(example[\"resume_text\"])\n",
    "    job_description = preprocessor.preprocess(example[\"job_description_text\"])\n",
    "    label = 0 if example[\"label\"] == \"No Fit\" else 1\n",
    "\n",
    "    tfidf = tfidf_similarity.similarity(resume, job_description)\n",
    "    bert = bert_similarity.similarity(resume, job_description)\n",
    "    transformer = sentence_transformer.similarity(resume, job_description)\n",
    "\n",
    "    return {\n",
    "        \"resume\": resume, \"job_description\": job_description, \"label\": label,\n",
    "        \"tfidf_similarity\": tfidf, \"bert_similarity\": bert, \"sentence_transformer_similarity\": transformer\n",
    "    }"
   ],
   "id": "1edb7165aa0fa91a",
   "outputs": [],
   "execution_count": 5
  },
  {
   "metadata": {
    "ExecuteTime": {
     "end_time": "2025-07-05T10:30:27.289319Z",
     "start_time": "2025-07-05T10:11:28.571851Z"
    }
   },
   "cell_type": "code",
   "source": "test_dataset = test_dataset.map(compute_similarity)",
   "id": "49885541fea7acf9",
   "outputs": [
    {
     "name": "stderr",
     "output_type": "stream",
     "text": [
      "Map: 100%|██████████| 1759/1759 [18:43<00:00,  1.56 examples/s]\n"
     ]
    }
   ],
   "execution_count": 6
  },
  {
   "metadata": {
    "ExecuteTime": {
     "end_time": "2025-07-05T10:41:18.629642Z",
     "start_time": "2025-07-05T10:41:18.622846Z"
    }
   },
   "cell_type": "code",
   "source": "test_dataset",
   "id": "abf86ee1b574eee8",
   "outputs": [
    {
     "data": {
      "text/plain": [
       "Dataset({\n",
       "    features: ['resume_text', 'job_description_text', 'label', 'resume', 'job_description', 'tfidf_similarity', 'bert_similarity', 'sentence_transformer_similarity'],\n",
       "    num_rows: 1759\n",
       "})"
      ]
     },
     "execution_count": 14,
     "metadata": {},
     "output_type": "execute_result"
    }
   ],
   "execution_count": 14
  },
  {
   "metadata": {
    "ExecuteTime": {
     "end_time": "2025-07-05T10:41:13.053628Z",
     "start_time": "2025-07-05T10:41:13.049537Z"
    }
   },
   "cell_type": "code",
   "source": [
    "def convert_to_label(example):\n",
    "    tfidf = 0 if example[\"tfidf_similarity\"] < 0.5 else 1\n",
    "    bert = 0 if example[\"bert_similarity\"] < 0.5 else 1\n",
    "    transformer = 0 if example[\"sentence_transformer_similarity\"] < 0.5 else 1\n",
    "    \n",
    "    return {\"tfidf\": tfidf, \"bert\": bert, \"transformer\": transformer}\n",
    "    "
   ],
   "id": "9f6448edfb548f6c",
   "outputs": [],
   "execution_count": 13
  },
  {
   "metadata": {
    "ExecuteTime": {
     "end_time": "2025-07-05T10:41:25.899753Z",
     "start_time": "2025-07-05T10:41:25.764822Z"
    }
   },
   "cell_type": "code",
   "source": "test_dataset = test_dataset.map(convert_to_label)",
   "id": "2d688ab6cef016f3",
   "outputs": [
    {
     "name": "stderr",
     "output_type": "stream",
     "text": [
      "Map: 100%|██████████| 1759/1759 [00:00<00:00, 13685.32 examples/s]\n"
     ]
    }
   ],
   "execution_count": 15
  },
  {
   "metadata": {
    "ExecuteTime": {
     "end_time": "2025-07-05T10:41:27.594816Z",
     "start_time": "2025-07-05T10:41:27.590632Z"
    }
   },
   "cell_type": "code",
   "source": "test_dataset",
   "id": "e1ff007dcc6a9974",
   "outputs": [
    {
     "data": {
      "text/plain": [
       "Dataset({\n",
       "    features: ['resume_text', 'job_description_text', 'label', 'resume', 'job_description', 'tfidf_similarity', 'bert_similarity', 'sentence_transformer_similarity', 'tfidf', 'bert', 'transformer'],\n",
       "    num_rows: 1759\n",
       "})"
      ]
     },
     "execution_count": 16,
     "metadata": {},
     "output_type": "execute_result"
    }
   ],
   "execution_count": 16
  },
  {
   "metadata": {
    "ExecuteTime": {
     "end_time": "2025-07-05T10:52:39.933765Z",
     "start_time": "2025-07-05T10:52:39.926753Z"
    }
   },
   "cell_type": "code",
   "source": [
    "actual = test_dataset[\"label\"]\n",
    "bert_predict = test_dataset[\"bert\"]\n",
    "tfidf_predict = test_dataset[\"tfidf\"]\n",
    "transformer_predict = test_dataset[\"transformer\"]"
   ],
   "id": "a86f6993fe289ac6",
   "outputs": [],
   "execution_count": 32
  },
  {
   "metadata": {
    "ExecuteTime": {
     "end_time": "2025-07-05T10:52:41.109510Z",
     "start_time": "2025-07-05T10:52:41.104059Z"
    }
   },
   "cell_type": "code",
   "source": [
    "def evaluate(actual, predict):\n",
    "    accuracy = accuracy_score(actual, predict)\n",
    "    precision = precision_score(actual, predict)\n",
    "    recall = recall_score(actual, predict)\n",
    "    f1 = f1_score(actual, predict)\n",
    "    \n",
    "    return {\"accuracy\": accuracy, \"precision\": precision, \"recall\": recall, \"f1\": f1}"
   ],
   "id": "b838d444f65bdc9b",
   "outputs": [],
   "execution_count": 33
  },
  {
   "metadata": {
    "ExecuteTime": {
     "end_time": "2025-07-05T10:52:43.863819Z",
     "start_time": "2025-07-05T10:52:43.838941Z"
    }
   },
   "cell_type": "code",
   "source": [
    "bert_evaluate = evaluate(actual, bert_predict)\n",
    "tfidf_evaluate = evaluate(actual, tfidf_predict)\n",
    "transformer_evaluate = evaluate(actual, transformer_predict)"
   ],
   "id": "6aefb66598a946a8",
   "outputs": [],
   "execution_count": 34
  },
  {
   "metadata": {
    "ExecuteTime": {
     "end_time": "2025-07-05T10:52:52.822914Z",
     "start_time": "2025-07-05T10:52:52.818631Z"
    }
   },
   "cell_type": "code",
   "source": [
    "print(\"bert evaluate : \", bert_evaluate)\n",
    "print(\"tfidf evaluate : \", tfidf_evaluate)\n",
    "print(\"transformer evaluate : \", transformer_evaluate)"
   ],
   "id": "f529a915f203f1f2",
   "outputs": [
    {
     "name": "stdout",
     "output_type": "stream",
     "text": [
      "bert evaluate :  {'accuracy': 0.5127913587265491, 'precision': 0.5127913587265491, 'recall': 1.0, 'f1': 0.6779406238256295}\n",
      "tfidf evaluate :  {'accuracy': 0.4866401364411598, 'precision': 0.0, 'recall': 0.0, 'f1': 0.0}\n",
      "transformer evaluate :  {'accuracy': 0.5548607163160887, 'precision': 0.5572666025024061, 'recall': 0.6419068736141907, 'f1': 0.5965996908809892}\n"
     ]
    }
   ],
   "execution_count": 35
  },
  {
   "metadata": {
    "ExecuteTime": {
     "end_time": "2025-07-05T10:53:06.025892Z",
     "start_time": "2025-07-05T10:53:06.020382Z"
    }
   },
   "cell_type": "code",
   "source": [
    "data = {\n",
    "    'BERT': bert_evaluate,\n",
    "    'TF-IDF': tfidf_evaluate,\n",
    "    'Transformer': transformer_evaluate\n",
    "}\n",
    "\n",
    "dataframe = pd.DataFrame(data)"
   ],
   "id": "b9260a6b2ba65916",
   "outputs": [],
   "execution_count": 36
  },
  {
   "metadata": {
    "ExecuteTime": {
     "end_time": "2025-07-05T10:53:07.686843Z",
     "start_time": "2025-07-05T10:53:07.680821Z"
    }
   },
   "cell_type": "code",
   "source": "dataframe",
   "id": "e67956d4d96cfb3",
   "outputs": [
    {
     "data": {
      "text/plain": [
       "               BERT   TF-IDF  Transformer\n",
       "accuracy   0.512791  0.48664     0.554861\n",
       "precision  0.512791  0.00000     0.557267\n",
       "recall     1.000000  0.00000     0.641907\n",
       "f1         0.677941  0.00000     0.596600"
      ],
      "text/html": [
       "<div>\n",
       "<style scoped>\n",
       "    .dataframe tbody tr th:only-of-type {\n",
       "        vertical-align: middle;\n",
       "    }\n",
       "\n",
       "    .dataframe tbody tr th {\n",
       "        vertical-align: top;\n",
       "    }\n",
       "\n",
       "    .dataframe thead th {\n",
       "        text-align: right;\n",
       "    }\n",
       "</style>\n",
       "<table border=\"1\" class=\"dataframe\">\n",
       "  <thead>\n",
       "    <tr style=\"text-align: right;\">\n",
       "      <th></th>\n",
       "      <th>BERT</th>\n",
       "      <th>TF-IDF</th>\n",
       "      <th>Transformer</th>\n",
       "    </tr>\n",
       "  </thead>\n",
       "  <tbody>\n",
       "    <tr>\n",
       "      <th>accuracy</th>\n",
       "      <td>0.512791</td>\n",
       "      <td>0.48664</td>\n",
       "      <td>0.554861</td>\n",
       "    </tr>\n",
       "    <tr>\n",
       "      <th>precision</th>\n",
       "      <td>0.512791</td>\n",
       "      <td>0.00000</td>\n",
       "      <td>0.557267</td>\n",
       "    </tr>\n",
       "    <tr>\n",
       "      <th>recall</th>\n",
       "      <td>1.000000</td>\n",
       "      <td>0.00000</td>\n",
       "      <td>0.641907</td>\n",
       "    </tr>\n",
       "    <tr>\n",
       "      <th>f1</th>\n",
       "      <td>0.677941</td>\n",
       "      <td>0.00000</td>\n",
       "      <td>0.596600</td>\n",
       "    </tr>\n",
       "  </tbody>\n",
       "</table>\n",
       "</div>"
      ]
     },
     "execution_count": 37,
     "metadata": {},
     "output_type": "execute_result"
    }
   ],
   "execution_count": 37
  },
  {
   "metadata": {
    "ExecuteTime": {
     "end_time": "2025-07-05T10:54:14.380207Z",
     "start_time": "2025-07-05T10:54:14.374222Z"
    }
   },
   "cell_type": "code",
   "source": "dataframe.to_csv(\"evaluation.csv\")",
   "id": "a14601b6c4afef68",
   "outputs": [],
   "execution_count": 39
  }
 ],
 "metadata": {
  "kernelspec": {
   "display_name": "Python 3",
   "language": "python",
   "name": "python3"
  },
  "language_info": {
   "codemirror_mode": {
    "name": "ipython",
    "version": 2
   },
   "file_extension": ".py",
   "mimetype": "text/x-python",
   "name": "python",
   "nbconvert_exporter": "python",
   "pygments_lexer": "ipython2",
   "version": "2.7.6"
  }
 },
 "nbformat": 4,
 "nbformat_minor": 5
}
